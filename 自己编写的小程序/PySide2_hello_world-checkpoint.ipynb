{
 "cells": [
  {
   "cell_type": "code",
   "execution_count": 1,
   "metadata": {},
   "outputs": [
    {
     "ename": "SystemExit",
     "evalue": "0",
     "output_type": "error",
     "traceback": [
      "An exception has occurred, use %tb to see the full traceback.\n",
      "\u001b[1;31mSystemExit\u001b[0m\u001b[1;31m:\u001b[0m 0\n"
     ]
    },
    {
     "name": "stderr",
     "output_type": "stream",
     "text": [
      "E:\\Apps\\Anaconda\\lib\\site-packages\\IPython\\core\\interactiveshell.py:3426: UserWarning: To exit: use 'exit', 'quit', or Ctrl-D.\n",
      "  warn(\"To exit: use 'exit', 'quit', or Ctrl-D.\", stacklevel=1)\n"
     ]
    }
   ],
   "source": [
    "import sys\n",
    "import random\n",
    "from PySide2 import QtGui, QtWidgets, QtCore\n",
    "\n",
    "\n",
    "# 定义主窗口\n",
    "class MainWindow(QtWidgets.QWidget):\n",
    "    def __init__(self):\n",
    "        super().__init__()\n",
    "        # 设置主窗口大小\n",
    "        self.resize(400, 300)\n",
    "        # 设置主窗口标题\n",
    "        self.setWindowTitle(\"hello world\")\n",
    "\n",
    "        # 定义不同语言\n",
    "        self.hello = [\"Hallo Welt\", \"你好世界！\", \"Hola Mundo\", \"Привет мир\", \"Hello world\"]\n",
    "\n",
    "        # 定义按钮\n",
    "        self.button = QtWidgets.QPushButton(\"Click me!\")\n",
    "\n",
    "        # 定义标签\n",
    "        self.text = QtWidgets.QLabel(\"Hello World\")\n",
    "        # 文字居中对齐\n",
    "        self.text.setAlignment(QtCore.Qt.AlignCenter)\n",
    "\n",
    "        # 定义布局，垂直分布\n",
    "        self.layout = QtWidgets.QVBoxLayout()\n",
    "\n",
    "        # 在布局上添加文字\n",
    "        self.layout.addWidget(self.text)\n",
    "        # 在布局上添加按钮\n",
    "        self.layout.addWidget(self.button)\n",
    "        # 在主窗口上布置布局\n",
    "        self.setLayout(self.layout)\n",
    "\n",
    "        # 添加槽链接\n",
    "        self.button.clicked.connect(self.magic)\n",
    "\n",
    "    # 定义槽函数\n",
    "    def magic(self):\n",
    "        self.text.setText(random.choice(self.hello))\n",
    "\n",
    "\n",
    "# 以下是主程序入口，格式基本固定，无须修改\n",
    "if __name__ == '__main__':\n",
    "    app = QtWidgets.QApplication(sys.argv)\n",
    "    window = MainWindow()\n",
    "    window.show()\n",
    "    sys.exit(app.exec_())"
   ]
  },
  {
   "cell_type": "code",
   "execution_count": null,
   "metadata": {},
   "outputs": [],
   "source": []
  }
 ],
 "metadata": {
  "kernelspec": {
   "display_name": "Python 3",
   "language": "python",
   "name": "python3"
  },
  "language_info": {
   "codemirror_mode": {
    "name": "ipython",
    "version": 3
   },
   "file_extension": ".py",
   "mimetype": "text/x-python",
   "name": "python",
   "nbconvert_exporter": "python",
   "pygments_lexer": "ipython3",
   "version": "3.8.5"
  }
 },
 "nbformat": 4,
 "nbformat_minor": 4
}
